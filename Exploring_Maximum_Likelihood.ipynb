{
  "cells": [
    {
      "cell_type": "markdown",
      "metadata": {
        "id": "0deTHsxNjMEJ"
      },
      "source": [
        "<a target=\"_blank\" href=\"https://colab.research.google.com/github/IU-Atmospheric-Sciences-Group/teaching_demos/blob/main/Exploring_Maximum_Likelihood.ipynb\">\n",
        "  <img src=\"https://colab.research.google.com/assets/colab-badge.svg\" alt=\"Open In Colab\"/>\n",
        "</a>\n",
        "\n",
        "# Exploring Maximum Likelihood\n",
        "\n",
        "This notebook demonstrates maximum likelihood in a graphical way.  It is designed to be used by an instructor as a tool to help explain the concepts of likelihood and optimization."
      ]
    },
    {
      "cell_type": "code",
      "execution_count": 1,
      "metadata": {
        "colab": {
          "base_uri": "https://localhost:8080/"
        },
        "id": "3QzD0ceDdhJJ",
        "outputId": "23acca86-3c61-4cc4-8e21-edff6356ed7d"
      },
      "outputs": [
        {
          "name": "stdout",
          "output_type": "stream",
          "text": [
            "Requirement already satisfied: ipywidgets==8.0.6 in /usr/local/lib/python3.10/dist-packages (8.0.6)\n",
            "Requirement already satisfied: ipykernel>=4.5.1 in /usr/local/lib/python3.10/dist-packages (from ipywidgets==8.0.6) (5.5.6)\n",
            "Requirement already satisfied: ipython>=6.1.0 in /usr/local/lib/python3.10/dist-packages (from ipywidgets==8.0.6) (7.34.0)\n",
            "Requirement already satisfied: traitlets>=4.3.1 in /usr/local/lib/python3.10/dist-packages (from ipywidgets==8.0.6) (5.7.1)\n",
            "Requirement already satisfied: widgetsnbextension~=4.0.7 in /usr/local/lib/python3.10/dist-packages (from ipywidgets==8.0.6) (4.0.13)\n",
            "Requirement already satisfied: jupyterlab-widgets~=3.0.7 in /usr/local/lib/python3.10/dist-packages (from ipywidgets==8.0.6) (3.0.13)\n",
            "Requirement already satisfied: ipython-genutils in /usr/local/lib/python3.10/dist-packages (from ipykernel>=4.5.1->ipywidgets==8.0.6) (0.2.0)\n",
            "Requirement already satisfied: jupyter-client in /usr/local/lib/python3.10/dist-packages (from ipykernel>=4.5.1->ipywidgets==8.0.6) (6.1.12)\n",
            "Requirement already satisfied: tornado>=4.2 in /usr/local/lib/python3.10/dist-packages (from ipykernel>=4.5.1->ipywidgets==8.0.6) (6.3.3)\n",
            "Requirement already satisfied: setuptools>=18.5 in /usr/local/lib/python3.10/dist-packages (from ipython>=6.1.0->ipywidgets==8.0.6) (71.0.4)\n",
            "Requirement already satisfied: jedi>=0.16 in /usr/local/lib/python3.10/dist-packages (from ipython>=6.1.0->ipywidgets==8.0.6) (0.19.1)\n",
            "Requirement already satisfied: decorator in /usr/local/lib/python3.10/dist-packages (from ipython>=6.1.0->ipywidgets==8.0.6) (4.4.2)\n",
            "Requirement already satisfied: pickleshare in /usr/local/lib/python3.10/dist-packages (from ipython>=6.1.0->ipywidgets==8.0.6) (0.7.5)\n",
            "Requirement already satisfied: prompt-toolkit!=3.0.0,!=3.0.1,<3.1.0,>=2.0.0 in /usr/local/lib/python3.10/dist-packages (from ipython>=6.1.0->ipywidgets==8.0.6) (3.0.47)\n",
            "Requirement already satisfied: pygments in /usr/local/lib/python3.10/dist-packages (from ipython>=6.1.0->ipywidgets==8.0.6) (2.18.0)\n",
            "Requirement already satisfied: backcall in /usr/local/lib/python3.10/dist-packages (from ipython>=6.1.0->ipywidgets==8.0.6) (0.2.0)\n",
            "Requirement already satisfied: matplotlib-inline in /usr/local/lib/python3.10/dist-packages (from ipython>=6.1.0->ipywidgets==8.0.6) (0.1.7)\n",
            "Requirement already satisfied: pexpect>4.3 in /usr/local/lib/python3.10/dist-packages (from ipython>=6.1.0->ipywidgets==8.0.6) (4.9.0)\n",
            "Requirement already satisfied: parso<0.9.0,>=0.8.3 in /usr/local/lib/python3.10/dist-packages (from jedi>=0.16->ipython>=6.1.0->ipywidgets==8.0.6) (0.8.4)\n",
            "Requirement already satisfied: ptyprocess>=0.5 in /usr/local/lib/python3.10/dist-packages (from pexpect>4.3->ipython>=6.1.0->ipywidgets==8.0.6) (0.7.0)\n",
            "Requirement already satisfied: wcwidth in /usr/local/lib/python3.10/dist-packages (from prompt-toolkit!=3.0.0,!=3.0.1,<3.1.0,>=2.0.0->ipython>=6.1.0->ipywidgets==8.0.6) (0.2.13)\n",
            "Requirement already satisfied: jupyter-core>=4.6.0 in /usr/local/lib/python3.10/dist-packages (from jupyter-client->ipykernel>=4.5.1->ipywidgets==8.0.6) (5.7.2)\n",
            "Requirement already satisfied: pyzmq>=13 in /usr/local/lib/python3.10/dist-packages (from jupyter-client->ipykernel>=4.5.1->ipywidgets==8.0.6) (24.0.1)\n",
            "Requirement already satisfied: python-dateutil>=2.1 in /usr/local/lib/python3.10/dist-packages (from jupyter-client->ipykernel>=4.5.1->ipywidgets==8.0.6) (2.8.2)\n",
            "Requirement already satisfied: platformdirs>=2.5 in /usr/local/lib/python3.10/dist-packages (from jupyter-core>=4.6.0->jupyter-client->ipykernel>=4.5.1->ipywidgets==8.0.6) (4.3.6)\n",
            "Requirement already satisfied: six>=1.5 in /usr/local/lib/python3.10/dist-packages (from python-dateutil>=2.1->jupyter-client->ipykernel>=4.5.1->ipywidgets==8.0.6) (1.16.0)\n"
          ]
        }
      ],
      "source": [
        "# install ipywidgets so we can have interactive plots\n",
        "!pip install ipywidgets==8.0.6"
      ]
    },
    {
      "cell_type": "code",
      "execution_count": 2,
      "metadata": {
        "id": "vI3B8dctdIMG"
      },
      "outputs": [],
      "source": [
        "# import libraries\n",
        "import matplotlib as mpl\n",
        "import matplotlib.pyplot as plt\n",
        "import numpy as np\n",
        "import ipywidgets as widgets\n",
        "import scipy.stats\n",
        "\n",
        "# set some colors\n",
        "iu_crimson = \"#990000\""
      ]
    },
    {
      "cell_type": "code",
      "execution_count": 3,
      "metadata": {
        "id": "XSGMNDN2eAnc"
      },
      "outputs": [],
      "source": [
        "\"\"\" Define a function to plot a PDF with data, for use in an interactive plot\"\"\"\n",
        "# define a 'dataset' with three points\n",
        "x = np.array([5.4, 6.8, 4.5])\n",
        "\n",
        "def update_plot(mu, sigma):\n",
        "  \"\"\" Updates a plot of data an a normal distribution given a mean and standard deviation.\n",
        "\n",
        "  Args:\n",
        "    mu: the mean of the normal distribution\n",
        "    sigma: the standard deviation of the normal distribution\n",
        "\n",
        "  \"\"\"\n",
        "  fig, ax = plt.subplots()\n",
        "\n",
        "  # plot the three data points\n",
        "  ax.scatter(x, np.zeros_like(x), color = iu_crimson, label = \"data\")\n",
        "\n",
        "  # plot a normal distribution with mu and sigma from the function call\n",
        "  x_plot = np.linspace(0, 10, 100)\n",
        "  pdf = scipy.stats.norm.pdf(x_plot, loc = mu, scale = sigma)\n",
        "  ax.plot(x_plot, pdf, color = \"black\", label = \"PDF\")\n",
        "\n",
        "\n",
        "  # initialize the likelihood\n",
        "  likelihood = 1\n",
        "\n",
        "  # draw dashed lines from the x points up to the PDF\n",
        "  for i in range(len(x)):\n",
        "    pdf_x = scipy.stats.norm.pdf(x[i], loc = mu, scale = sigma)\n",
        "    likelihood *= pdf_x\n",
        "    ax.plot([x[i], x[i]], [0, pdf_x], linestyle = \"--\", color = iu_crimson)\n",
        "    ax.scatter(x[i], pdf_x, color = iu_crimson)\n",
        "\n",
        "  # print the likelihood in the title\n",
        "  ax.set_title(f\"Likelihood: {likelihood:.3g}\")\n",
        "\n",
        "  # add a legend\n",
        "  ax.legend(loc = \"upper right\")\n",
        "\n",
        "  # label axes\n",
        "  ax.set_xlabel(\"Data (x)\")\n",
        "  ax.set_ylabel(\"Probability Density\")\n",
        "\n",
        "  # turn on a coarse and fine grid, with the fine grid\n",
        "  # having a spacing of 0.5 in x and 0.1 in y\n",
        "  ax.grid(True, which = \"both\", alpha = 0.2)\n",
        "  ax.grid(True, which = \"minor\", alpha = 0.2)\n",
        "  ax.set_xticks(np.arange(0, 11, 1))\n",
        "  ax.set_yticks(np.arange(0, 1.1, 0.05))\n",
        "\n",
        "  # set plot limits so that the plot doesn't move around\n",
        "  # everytime it is refreshed\n",
        "  ax.set_xlim(0, 10)\n",
        "  ax.set_ylim(0, 1)\n",
        "\n",
        "  # draw the plot\n",
        "  plt.show()\n",
        "\n",
        "# test the function\n",
        "#update_plot(5, 1)"
      ]
    },
    {
      "cell_type": "markdown",
      "metadata": {
        "id": "7mxfECEkmcJf"
      },
      "source": [
        "The following interactive plot shows the effect of adjusting the parameters $\\mu$ and $\\sigma$ in the following statistical model:\n",
        "\n",
        "$$ P(x~|~\\mu,\\sigma) = \\mathcal{N}(x | \\mu, \\sigma) = \\frac{1}{\\sigma \\sqrt{2 \\pi}} e^{-(x-\\mu)^2/(2\\sigma^2)}$$\n",
        "\n",
        "It shows the likelihood given by\n",
        "\n",
        "$$ \\mathcal{L}(\\mu, \\sigma ~|~ x) = \\prod\\limits_{i = 1}^{N} P(x_i~|~\\mu,\\sigma)$$"
      ]
    },
    {
      "cell_type": "code",
      "execution_count": 4,
      "metadata": {
        "colab": {
          "base_uri": "https://localhost:8080/",
          "height": 693,
          "referenced_widgets": [
            "60d1fa9c8f244e30b5ce052a3c8514d0",
            "1a133999261141438ce610086a5a8419",
            "ba733eb3ce2843639a3250b95769c5b2",
            "dda6732db5b041d2900eb06ec05bdfef",
            "07cce4720ed54ce09a3fc5fb691c1277",
            "c170fd246039445b98fd24d3428feb8d",
            "0a7d9e2a4f694c9198747746edf2f4a6",
            "85ae3999a11a48d5ac2d24205383ae01",
            "fd017d213dd640b8a3532cdc8d19ce33",
            "9cb83ee977f84876b626d3f486f5e702"
          ]
        },
        "id": "2WuTXyqFg9UI",
        "outputId": "24b7cd5d-9c4f-42e0-93ce-8d0cc5acafc3"
      },
      "outputs": [
        {
          "data": {
            "application/vnd.jupyter.widget-view+json": {
              "model_id": "60d1fa9c8f244e30b5ce052a3c8514d0",
              "version_major": 2,
              "version_minor": 0
            },
            "text/plain": [
              "interactive(children=(FloatSlider(value=3.0, description='mu', max=10.0, step=0.05), FloatSlider(value=2.0, de…"
            ]
          },
          "metadata": {},
          "output_type": "display_data"
        },
        {
          "data": {
            "text/html": [
              "<div style=\"max-width:800px; border: 1px solid var(--colab-border-color);\"><style>\n",
              "      pre.function-repr-contents {\n",
              "        overflow-x: auto;\n",
              "        padding: 8px 12px;\n",
              "        max-height: 500px;\n",
              "      }\n",
              "\n",
              "      pre.function-repr-contents.function-repr-contents-collapsed {\n",
              "        cursor: pointer;\n",
              "        max-height: 100px;\n",
              "      }\n",
              "    </style>\n",
              "    <pre style=\"white-space: initial; background:\n",
              "         var(--colab-secondary-surface-color); padding: 8px 12px;\n",
              "         border-bottom: 1px solid var(--colab-border-color);\"><b>update_plot</b><br/>def update_plot(mu, sigma)</pre><pre class=\"function-repr-contents function-repr-contents-collapsed\" style=\"\"><a class=\"filepath\" style=\"display:none\" href=\"#\">/content/&lt;ipython-input-3-7b6960430332&gt;</a>Updates a plot of data an a normal distribution given a mean and standard deviation.\n",
              "\n",
              "Args:\n",
              "  mu: the mean of the normal distribution\n",
              "  sigma: the standard deviation of the normal distribution</pre></div>"
            ],
            "text/plain": [
              "<function __main__.update_plot(mu, sigma)>"
            ]
          },
          "execution_count": 4,
          "metadata": {},
          "output_type": "execute_result"
        }
      ],
      "source": [
        "# create sliders for mu and sigma\n",
        "mu_slider = widgets.FloatSlider(min = 0, max = 10, step = 0.05, value = 3, description = \"mu\")\n",
        "sigma_slider = widgets.FloatSlider(min = 0.1, max = 10, step = 0.05, value = 2, description = \"sigma\")\n",
        "\n",
        "# use interact to link the sliders to the update_plot function\n",
        "widgets.interact(update_plot, mu = mu_slider, sigma = sigma_slider)"
      ]
    },
    {
      "cell_type": "code",
      "execution_count": 5,
      "metadata": {
        "colab": {
          "base_uri": "https://localhost:8080/"
        },
        "id": "bOtVXKG2d3KV",
        "outputId": "28500a4b-b5ba-46ba-9eb8-947d0644ad32"
      },
      "outputs": [
        {
          "name": "stdout",
          "output_type": "stream",
          "text": [
            "Mean: 5.57\n",
            "Standard Deviation: 0.946\n"
          ]
        }
      ],
      "source": [
        "# calculate & print the mean and standard deviation of the data\n",
        "mean_x = np.mean(x)\n",
        "std_x = np.std(x)\n",
        "print(f\"Mean: {mean_x:.3g}\")\n",
        "print(f\"Standard Deviation: {std_x:.3g}\")"
      ]
    },
    {
      "cell_type": "markdown",
      "metadata": {
        "id": "auWu2tuwmXSs"
      },
      "source": [
        "# Maximum Likelihood and Linear Regression"
      ]
    },
    {
      "cell_type": "code",
      "execution_count": 6,
      "metadata": {
        "colab": {
          "base_uri": "https://localhost:8080/",
          "height": 449
        },
        "id": "yJjbZesjirQM",
        "outputId": "334379be-c4aa-4649-c4ec-c2690acbba2e"
      },
      "outputs": [
        {
          "data": {
            "image/png": "[encoded data removed]",
            "text/plain": [
              "<Figure size 640x480 with 1 Axes>"
            ]
          },
          "metadata": {},
          "output_type": "display_data"
        }
      ],
      "source": [
        "\"\"\" Define a dataset with a positive slope. \"\"\"\n",
        "\n",
        "t = np.array([0, 1, 2, 3, 4, 5, 6, 7, 8, 9])\n",
        "slope = 10\n",
        "intercept = 0\n",
        "x =  slope*t + intercept + np.random.normal(loc = 0, scale = 10, size = len(t))\n",
        "\n",
        "# plot a scatter plot of the data\n",
        "fig, ax = plt.subplots()\n",
        "ax.scatter(t, x, color = iu_crimson)\n",
        "ax.set_xlabel(\"t\")\n",
        "ax.set_ylabel(\"x\")\n",
        "plt.show()"
      ]
    },
    {
      "cell_type": "code",
      "execution_count": 7,
      "metadata": {
        "id": "ztrKrFxhnnu_"
      },
      "outputs": [],
      "source": [
        "\"\"\" Write a function for an interactive 3D plot. \"\"\"\n",
        "\n",
        "def update_plot_3d(slope, intercept, sigma):\n",
        "  \"\"\" Updates a 3D plot of data and a line given a slope and intercept.\n",
        "\n",
        "  Args:\n",
        "    slope: the slope of the line\n",
        "    intercept: the intercept of the line\n",
        "    sigma: the standard deviation of the noise\n",
        "\n",
        "  \"\"\"\n",
        "  fig = plt.figure()\n",
        "  ax = fig.add_subplot(projection = \"3d\")\n",
        "\n",
        "  # plot the data on the x-y plane\n",
        "  ax.scatter(t, x, np.zeros_like(t), color = iu_crimson, label = \"data\")\n",
        "\n",
        "  # draw the line\n",
        "  x_plot = np.linspace(0, 10, 100)\n",
        "  y_plot = slope*x_plot + intercept\n",
        "  ax.plot(x_plot, y_plot, np.zeros_like(x_plot), linestyle = '--', color = \"black\", label = \"line\")\n",
        "\n",
        "  # initialize the likelihood\n",
        "  likelihood = 1\n",
        "\n",
        "  # draw normal PDFs centered on the line for each data point\n",
        "  for i in range(len(t)):\n",
        "    x_pdf = np.linspace(0, 100, 200)\n",
        "    mu_pdf = slope*t[i] + intercept\n",
        "    pdf = scipy.stats.norm.pdf(x_pdf, loc = mu_pdf, scale = sigma)\n",
        "\n",
        "    # draw the PDF\n",
        "    if i == 0:\n",
        "      label = \"PDF\"\n",
        "    else:\n",
        "      label = None\n",
        "    ax.plot(t[i]*np.ones_like(x_pdf), x_pdf, pdf, color = \"black\", alpha = 0.5, label = label)\n",
        "\n",
        "    # draw a line from the point up to the pdf\n",
        "    pdf_x = scipy.stats.norm.pdf(x[i], loc = mu_pdf, scale = sigma)\n",
        "    ax.plot([t[i], t[i]], [x[i], x[i]], [0, pdf_x], linestyle = \"--\", color = iu_crimson)\n",
        "\n",
        "    # plot the point on the line\n",
        "    ax.scatter(t[i], x[i], pdf_x, color = iu_crimson, alpha = 0.5)\n",
        "\n",
        "    # update the likelihood\n",
        "    likelihood *= pdf_x\n",
        "\n",
        "  # print the likelihood in the title\n",
        "  ax.set_title(f\"Likelihood: {likelihood:.3g}\")\n",
        "\n",
        "  # add a legend\n",
        "  ax.legend(loc = \"upper right\")\n",
        "\n",
        "  # set plot labels\n",
        "  ax.set_xlabel(\"t\")\n",
        "  ax.set_ylabel(\"x\")\n",
        "  ax.set_zlabel(\"Probability Density\")\n",
        "\n",
        "  # set plot limits\n",
        "  ax.set_xlim(0, 10)\n",
        "  ax.set_ylim(0, 100)\n",
        "  ax.set_zlim(0, 0.1)\n",
        "\n",
        "  # make sure the plot doesn't cut off axis labels\n",
        "  ax.set_box_aspect(None, zoom=0.8)\n",
        "\n",
        "  # draw the plot\n",
        "  plt.show()\n",
        "\n",
        "\n",
        "# test the function\n",
        "#update_plot_3d(10, 0, 5)\n"
      ]
    },
    {
      "cell_type": "markdown",
      "metadata": {
        "id": "rjHaxSygvAuh"
      },
      "source": [
        "The following interactive plot shows the effect of adjusting the parameters $m$ (slope), $b$ (intercept), and $\\sigma$ in the following statistical model:\n",
        "\n",
        "$$ P(x,t~|~m,b,\\sigma) = \\mathcal{N}(x | m \\cdot t, \\sigma) = \\frac{1}{\\sigma \\sqrt{2 \\pi}} e^{-(x-(m \\cdot t+b))^2/(2\\sigma^2)}$$\n",
        "\n",
        "It shows the likelihood given by\n",
        "\n",
        "$$ \\mathcal{L}(m,b, \\sigma ~|~ x,t) = \\prod\\limits_{i = 1}^{N} P(x_i, t_i~|~m,b,\\sigma)$$"
      ]
    },
    {
      "cell_type": "code",
      "execution_count": 8,
      "metadata": {
        "colab": {
          "base_uri": "https://localhost:8080/",
          "height": 694,
          "referenced_widgets": [
            "9322753649004e92bc5913c45a413386",
            "ee2600ccf79246e6b45a32650e52f01f",
            "0b124586b98e448683b5dece7fd3fc02",
            "184da6aa6f474784b78a00139142d39b",
            "64a603d3052b48d993a99b9685f5979e",
            "235320f4e2b4431386a8e5e4021fc089",
            "f89bd497635a408a828dab4406cb792d",
            "ab37f10e0561478f8d81b65b57616849",
            "7c01b2e54b3f45189e10799cd90f9385",
            "0ba7205160854067bbdc02fd3bff2068",
            "5ae96ee19bf845d89ba9ea7c5367c073",
            "0d656b407e344040a225122cfd42ab44",
            "7c1bf19afe1f4d009a689894ce1e3159"
          ]
        },
        "id": "_W50Eua_sFQd",
        "outputId": "3783101d-856a-4168-843c-5680c3a204fe"
      },
      "outputs": [
        {
          "data": {
            "application/vnd.jupyter.widget-view+json": {
              "model_id": "9322753649004e92bc5913c45a413386",
              "version_major": 2,
              "version_minor": 0
            },
            "text/plain": [
              "interactive(children=(FloatSlider(value=0.0, description='slope', max=30.0, min=-30.0, step=0.5), FloatSlider(…"
            ]
          },
          "metadata": {},
          "output_type": "display_data"
        },
        {
          "data": {
            "text/html": [
              "<div style=\"max-width:800px; border: 1px solid var(--colab-border-color);\"><style>\n",
              "      pre.function-repr-contents {\n",
              "        overflow-x: auto;\n",
              "        padding: 8px 12px;\n",
              "        max-height: 500px;\n",
              "      }\n",
              "\n",
              "      pre.function-repr-contents.function-repr-contents-collapsed {\n",
              "        cursor: pointer;\n",
              "        max-height: 100px;\n",
              "      }\n",
              "    </style>\n",
              "    <pre style=\"white-space: initial; background:\n",
              "         var(--colab-secondary-surface-color); padding: 8px 12px;\n",
              "         border-bottom: 1px solid var(--colab-border-color);\"><b>update_plot_3d</b><br/>def update_plot_3d(slope, intercept, sigma)</pre><pre class=\"function-repr-contents function-repr-contents-collapsed\" style=\"\"><a class=\"filepath\" style=\"display:none\" href=\"#\">/content/&lt;ipython-input-7-543d0062f379&gt;</a>Updates a 3D plot of data and a line given a slope and intercept.\n",
              "\n",
              "Args:\n",
              "  slope: the slope of the line\n",
              "  intercept: the intercept of the line\n",
              "  sigma: the standard deviation of the noise</pre></div>"
            ],
            "text/plain": [
              "<function __main__.update_plot_3d(slope, intercept, sigma)>"
            ]
          },
          "execution_count": 8,
          "metadata": {},
          "output_type": "execute_result"
        }
      ],
      "source": [
        "\"\"\" Create sliders for the slope, intercept, and standard deviation. \"\"\"\n",
        "slope_slider = widgets.FloatSlider(min = -30, max = 30, step = 0.5, value = 0, description = \"slope\")\n",
        "intercept_slider = widgets.FloatSlider(min = -10, max = 100, step = 0.05, value = 50, description = \"intercept\")\n",
        "sigma_slider = widgets.FloatSlider(min = 0.1, max = 100, step = 0.05, value = 10, description = \"sigma\")\n",
        "\n",
        "# use interact to link the sliders to the update_plot_3d function\n",
        "widgets.interact(update_plot_3d, slope = slope_slider, intercept = intercept_slider, sigma = sigma_slider)"
      ]
    }
  ],
  "metadata": {
    "colab": {
      "provenance": []
    },
    "kernelspec": {
      "display_name": "Python 3",
      "name": "python3"
    },
    "language_info": {
      "name": "python"
    },
    "widgets": {
      "application/vnd.jupyter.widget-state+json": {
        "07cce4720ed54ce09a3fc5fb691c1277": {
          "model_module": "@jupyter-widgets/base",
          "model_module_version": "2.0.0",
          "model_name": "LayoutModel",
          "state": {
            "_model_module": "@jupyter-widgets/base",
            "_model_module_version": "2.0.0",
            "_model_name": "LayoutModel",
            "_view_count": null,
            "_view_module": "@jupyter-widgets/base",
            "_view_module_version": "2.0.0",
            "_view_name": "LayoutView",
            "align_content": null,
            "align_items": null,
            "align_self": null,
            "border_bottom": null,
            "border_left": null,
            "border_right": null,
            "border_top": null,
            "bottom": null,
            "display": null,
            "flex": null,
            "flex_flow": null,
            "grid_area": null,
            "grid_auto_columns": null,
            "grid_auto_flow": null,
            "grid_auto_rows": null,
            "grid_column": null,
            "grid_gap": null,
            "grid_row": null,
            "grid_template_areas": null,
            "grid_template_columns": null,
            "grid_template_rows": null,
            "height": null,
            "justify_content": null,
            "justify_items": null,
            "left": null,
            "margin": null,
            "max_height": null,
            "max_width": null,
            "min_height": null,
            "min_width": null,
            "object_fit": null,
            "object_position": null,
            "order": null,
            "overflow": null,
            "padding": null,
            "right": null,
            "top": null,
            "visibility": null,
            "width": null
          }
        },
        "0a7d9e2a4f694c9198747746edf2f4a6": {
          "model_module": "@jupyter-widgets/controls",
          "model_module_version": "2.0.0",
          "model_name": "SliderStyleModel",
          "state": {
            "_model_module": "@jupyter-widgets/controls",
            "_model_module_version": "2.0.0",
            "_model_name": "SliderStyleModel",
            "_view_count": null,
            "_view_module": "@jupyter-widgets/base",
            "_view_module_version": "2.0.0",
            "_view_name": "StyleView",
            "description_width": "",
            "handle_color": null
          }
        },
        "0b124586b98e448683b5dece7fd3fc02": {
          "model_module": "@jupyter-widgets/controls",
          "model_module_version": "2.0.0",
          "model_name": "FloatSliderModel",
          "state": {
            "_dom_classes": [],
            "_model_module": "@jupyter-widgets/controls",
            "_model_module_version": "2.0.0",
            "_model_name": "FloatSliderModel",
            "_view_count": null,
            "_view_module": "@jupyter-widgets/controls",
            "_view_module_version": "2.0.0",
            "_view_name": "FloatSliderView",
            "behavior": "drag-tap",
            "continuous_update": true,
            "description": "intercept",
            "description_allow_html": false,
            "disabled": false,
            "layout": "IPY_MODEL_7c01b2e54b3f45189e10799cd90f9385",
            "max": 100,
            "min": -10,
            "orientation": "horizontal",
            "readout": true,
            "readout_format": ".2f",
            "step": 0.05,
            "style": "IPY_MODEL_0ba7205160854067bbdc02fd3bff2068",
            "tabbable": null,
            "tooltip": null,
            "value": 50
          }
        },
        "0ba7205160854067bbdc02fd3bff2068": {
          "model_module": "@jupyter-widgets/controls",
          "model_module_version": "2.0.0",
          "model_name": "SliderStyleModel",
          "state": {
            "_model_module": "@jupyter-widgets/controls",
            "_model_module_version": "2.0.0",
            "_model_name": "SliderStyleModel",
            "_view_count": null,
            "_view_module": "@jupyter-widgets/base",
            "_view_module_version": "2.0.0",
            "_view_name": "StyleView",
            "description_width": "",
            "handle_color": null
          }
        },
        "0d656b407e344040a225122cfd42ab44": {
          "model_module": "@jupyter-widgets/controls",
          "model_module_version": "2.0.0",
          "model_name": "SliderStyleModel",
          "state": {
            "_model_module": "@jupyter-widgets/controls",
            "_model_module_version": "2.0.0",
            "_model_name": "SliderStyleModel",
            "_view_count": null,
            "_view_module": "@jupyter-widgets/base",
            "_view_module_version": "2.0.0",
            "_view_name": "StyleView",
            "description_width": "",
            "handle_color": null
          }
        },
        "184da6aa6f474784b78a00139142d39b": {
          "model_module": "@jupyter-widgets/controls",
          "model_module_version": "2.0.0",
          "model_name": "FloatSliderModel",
          "state": {
            "_dom_classes": [],
            "_model_module": "@jupyter-widgets/controls",
            "_model_module_version": "2.0.0",
            "_model_name": "FloatSliderModel",
            "_view_count": null,
            "_view_module": "@jupyter-widgets/controls",
            "_view_module_version": "2.0.0",
            "_view_name": "FloatSliderView",
            "behavior": "drag-tap",
            "continuous_update": true,
            "description": "sigma",
            "description_allow_html": false,
            "disabled": false,
            "layout": "IPY_MODEL_5ae96ee19bf845d89ba9ea7c5367c073",
            "max": 100,
            "min": 0.1,
            "orientation": "horizontal",
            "readout": true,
            "readout_format": ".2f",
            "step": 0.05,
            "style": "IPY_MODEL_0d656b407e344040a225122cfd42ab44",
            "tabbable": null,
            "tooltip": null,
            "value": 10
          }
        },
        "1a133999261141438ce610086a5a8419": {
          "model_module": "@jupyter-widgets/controls",
          "model_module_version": "2.0.0",
          "model_name": "FloatSliderModel",
          "state": {
            "_dom_classes": [],
            "_model_module": "@jupyter-widgets/controls",
            "_model_module_version": "2.0.0",
            "_model_name": "FloatSliderModel",
            "_view_count": null,
            "_view_module": "@jupyter-widgets/controls",
            "_view_module_version": "2.0.0",
            "_view_name": "FloatSliderView",
            "behavior": "drag-tap",
            "continuous_update": true,
            "description": "mu",
            "description_allow_html": false,
            "disabled": false,
            "layout": "IPY_MODEL_c170fd246039445b98fd24d3428feb8d",
            "max": 10,
            "min": 0,
            "orientation": "horizontal",
            "readout": true,
            "readout_format": ".2f",
            "step": 0.05,
            "style": "IPY_MODEL_0a7d9e2a4f694c9198747746edf2f4a6",
            "tabbable": null,
            "tooltip": null,
            "value": 3
          }
        },
        "235320f4e2b4431386a8e5e4021fc089": {
          "model_module": "@jupyter-widgets/base",
          "model_module_version": "2.0.0",
          "model_name": "LayoutModel",
          "state": {
            "_model_module": "@jupyter-widgets/base",
            "_model_module_version": "2.0.0",
            "_model_name": "LayoutModel",
            "_view_count": null,
            "_view_module": "@jupyter-widgets/base",
            "_view_module_version": "2.0.0",
            "_view_name": "LayoutView",
            "align_content": null,
            "align_items": null,
            "align_self": null,
            "border_bottom": null,
            "border_left": null,
            "border_right": null,
            "border_top": null,
            "bottom": null,
            "display": null,
            "flex": null,
            "flex_flow": null,
            "grid_area": null,
            "grid_auto_columns": null,
            "grid_auto_flow": null,
            "grid_auto_rows": null,
            "grid_column": null,
            "grid_gap": null,
            "grid_row": null,
            "grid_template_areas": null,
            "grid_template_columns": null,
            "grid_template_rows": null,
            "height": null,
            "justify_content": null,
            "justify_items": null,
            "left": null,
            "margin": null,
            "max_height": null,
            "max_width": null,
            "min_height": null,
            "min_width": null,
            "object_fit": null,
            "object_position": null,
            "order": null,
            "overflow": null,
            "padding": null,
            "right": null,
            "top": null,
            "visibility": null,
            "width": null
          }
        },
        "5ae96ee19bf845d89ba9ea7c5367c073": {
          "model_module": "@jupyter-widgets/base",
          "model_module_version": "2.0.0",
          "model_name": "LayoutModel",
          "state": {
            "_model_module": "@jupyter-widgets/base",
            "_model_module_version": "2.0.0",
            "_model_name": "LayoutModel",
            "_view_count": null,
            "_view_module": "@jupyter-widgets/base",
            "_view_module_version": "2.0.0",
            "_view_name": "LayoutView",
            "align_content": null,
            "align_items": null,
            "align_self": null,
            "border_bottom": null,
            "border_left": null,
            "border_right": null,
            "border_top": null,
            "bottom": null,
            "display": null,
            "flex": null,
            "flex_flow": null,
            "grid_area": null,
            "grid_auto_columns": null,
            "grid_auto_flow": null,
            "grid_auto_rows": null,
            "grid_column": null,
            "grid_gap": null,
            "grid_row": null,
            "grid_template_areas": null,
            "grid_template_columns": null,
            "grid_template_rows": null,
            "height": null,
            "justify_content": null,
            "justify_items": null,
            "left": null,
            "margin": null,
            "max_height": null,
            "max_width": null,
            "min_height": null,
            "min_width": null,
            "object_fit": null,
            "object_position": null,
            "order": null,
            "overflow": null,
            "padding": null,
            "right": null,
            "top": null,
            "visibility": null,
            "width": null
          }
        },
        "60d1fa9c8f244e30b5ce052a3c8514d0": {
          "model_module": "@jupyter-widgets/controls",
          "model_module_version": "2.0.0",
          "model_name": "VBoxModel",
          "state": {
            "_dom_classes": [
              "widget-interact"
            ],
            "_model_module": "@jupyter-widgets/controls",
            "_model_module_version": "2.0.0",
            "_model_name": "VBoxModel",
            "_view_count": null,
            "_view_module": "@jupyter-widgets/controls",
            "_view_module_version": "2.0.0",
            "_view_name": "VBoxView",
            "box_style": "",
            "children": [
              "IPY_MODEL_1a133999261141438ce610086a5a8419",
              "IPY_MODEL_ba733eb3ce2843639a3250b95769c5b2",
              "IPY_MODEL_dda6732db5b041d2900eb06ec05bdfef"
            ],
            "layout": "IPY_MODEL_07cce4720ed54ce09a3fc5fb691c1277",
            "tabbable": null,
            "tooltip": null
          }
        },
        "64a603d3052b48d993a99b9685f5979e": {
          "model_module": "@jupyter-widgets/output",
          "model_module_version": "1.0.0",
          "model_name": "OutputModel",
          "state": {
            "_dom_classes": [],
            "_model_module": "@jupyter-widgets/output",
            "_model_module_version": "1.0.0",
            "_model_name": "OutputModel",
            "_view_count": null,
            "_view_module": "@jupyter-widgets/output",
            "_view_module_version": "1.0.0",
            "_view_name": "OutputView",
            "layout": "IPY_MODEL_7c1bf19afe1f4d009a689894ce1e3159",
            "msg_id": "",
            "outputs": [
              {
                "data": {
                  "image/png": "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\n",
                  "text/plain": "<Figure size 640x480 with 1 Axes>"
                },
                "metadata": {},
                "output_type": "display_data"
              }
            ],
            "tabbable": null,
            "tooltip": null
          }
        },
        "7c01b2e54b3f45189e10799cd90f9385": {
          "model_module": "@jupyter-widgets/base",
          "model_module_version": "2.0.0",
          "model_name": "LayoutModel",
          "state": {
            "_model_module": "@jupyter-widgets/base",
            "_model_module_version": "2.0.0",
            "_model_name": "LayoutModel",
            "_view_count": null,
            "_view_module": "@jupyter-widgets/base",
            "_view_module_version": "2.0.0",
            "_view_name": "LayoutView",
            "align_content": null,
            "align_items": null,
            "align_self": null,
            "border_bottom": null,
            "border_left": null,
            "border_right": null,
            "border_top": null,
            "bottom": null,
            "display": null,
            "flex": null,
            "flex_flow": null,
            "grid_area": null,
            "grid_auto_columns": null,
            "grid_auto_flow": null,
            "grid_auto_rows": null,
            "grid_column": null,
            "grid_gap": null,
            "grid_row": null,
            "grid_template_areas": null,
            "grid_template_columns": null,
            "grid_template_rows": null,
            "height": null,
            "justify_content": null,
            "justify_items": null,
            "left": null,
            "margin": null,
            "max_height": null,
            "max_width": null,
            "min_height": null,
            "min_width": null,
            "object_fit": null,
            "object_position": null,
            "order": null,
            "overflow": null,
            "padding": null,
            "right": null,
            "top": null,
            "visibility": null,
            "width": null
          }
        },
        "7c1bf19afe1f4d009a689894ce1e3159": {
          "model_module": "@jupyter-widgets/base",
          "model_module_version": "2.0.0",
          "model_name": "LayoutModel",
          "state": {
            "_model_module": "@jupyter-widgets/base",
            "_model_module_version": "2.0.0",
            "_model_name": "LayoutModel",
            "_view_count": null,
            "_view_module": "@jupyter-widgets/base",
            "_view_module_version": "2.0.0",
            "_view_name": "LayoutView",
            "align_content": null,
            "align_items": null,
            "align_self": null,
            "border_bottom": null,
            "border_left": null,
            "border_right": null,
            "border_top": null,
            "bottom": null,
            "display": null,
            "flex": null,
            "flex_flow": null,
            "grid_area": null,
            "grid_auto_columns": null,
            "grid_auto_flow": null,
            "grid_auto_rows": null,
            "grid_column": null,
            "grid_gap": null,
            "grid_row": null,
            "grid_template_areas": null,
            "grid_template_columns": null,
            "grid_template_rows": null,
            "height": null,
            "justify_content": null,
            "justify_items": null,
            "left": null,
            "margin": null,
            "max_height": null,
            "max_width": null,
            "min_height": null,
            "min_width": null,
            "object_fit": null,
            "object_position": null,
            "order": null,
            "overflow": null,
            "padding": null,
            "right": null,
            "top": null,
            "visibility": null,
            "width": null
          }
        },
        "85ae3999a11a48d5ac2d24205383ae01": {
          "model_module": "@jupyter-widgets/base",
          "model_module_version": "2.0.0",
          "model_name": "LayoutModel",
          "state": {
            "_model_module": "@jupyter-widgets/base",
            "_model_module_version": "2.0.0",
            "_model_name": "LayoutModel",
            "_view_count": null,
            "_view_module": "@jupyter-widgets/base",
            "_view_module_version": "2.0.0",
            "_view_name": "LayoutView",
            "align_content": null,
            "align_items": null,
            "align_self": null,
            "border_bottom": null,
            "border_left": null,
            "border_right": null,
            "border_top": null,
            "bottom": null,
            "display": null,
            "flex": null,
            "flex_flow": null,
            "grid_area": null,
            "grid_auto_columns": null,
            "grid_auto_flow": null,
            "grid_auto_rows": null,
            "grid_column": null,
            "grid_gap": null,
            "grid_row": null,
            "grid_template_areas": null,
            "grid_template_columns": null,
            "grid_template_rows": null,
            "height": null,
            "justify_content": null,
            "justify_items": null,
            "left": null,
            "margin": null,
            "max_height": null,
            "max_width": null,
            "min_height": null,
            "min_width": null,
            "object_fit": null,
            "object_position": null,
            "order": null,
            "overflow": null,
            "padding": null,
            "right": null,
            "top": null,
            "visibility": null,
            "width": null
          }
        },
        "9322753649004e92bc5913c45a413386": {
          "model_module": "@jupyter-widgets/controls",
          "model_module_version": "2.0.0",
          "model_name": "VBoxModel",
          "state": {
            "_dom_classes": [
              "widget-interact"
            ],
            "_model_module": "@jupyter-widgets/controls",
            "_model_module_version": "2.0.0",
            "_model_name": "VBoxModel",
            "_view_count": null,
            "_view_module": "@jupyter-widgets/controls",
            "_view_module_version": "2.0.0",
            "_view_name": "VBoxView",
            "box_style": "",
            "children": [
              "IPY_MODEL_ee2600ccf79246e6b45a32650e52f01f",
              "IPY_MODEL_0b124586b98e448683b5dece7fd3fc02",
              "IPY_MODEL_184da6aa6f474784b78a00139142d39b",
              "IPY_MODEL_64a603d3052b48d993a99b9685f5979e"
            ],
            "layout": "IPY_MODEL_235320f4e2b4431386a8e5e4021fc089",
            "tabbable": null,
            "tooltip": null
          }
        },
        "9cb83ee977f84876b626d3f486f5e702": {
          "model_module": "@jupyter-widgets/base",
          "model_module_version": "2.0.0",
          "model_name": "LayoutModel",
          "state": {
            "_model_module": "@jupyter-widgets/base",
            "_model_module_version": "2.0.0",
            "_model_name": "LayoutModel",
            "_view_count": null,
            "_view_module": "@jupyter-widgets/base",
            "_view_module_version": "2.0.0",
            "_view_name": "LayoutView",
            "align_content": null,
            "align_items": null,
            "align_self": null,
            "border_bottom": null,
            "border_left": null,
            "border_right": null,
            "border_top": null,
            "bottom": null,
            "display": null,
            "flex": null,
            "flex_flow": null,
            "grid_area": null,
            "grid_auto_columns": null,
            "grid_auto_flow": null,
            "grid_auto_rows": null,
            "grid_column": null,
            "grid_gap": null,
            "grid_row": null,
            "grid_template_areas": null,
            "grid_template_columns": null,
            "grid_template_rows": null,
            "height": null,
            "justify_content": null,
            "justify_items": null,
            "left": null,
            "margin": null,
            "max_height": null,
            "max_width": null,
            "min_height": null,
            "min_width": null,
            "object_fit": null,
            "object_position": null,
            "order": null,
            "overflow": null,
            "padding": null,
            "right": null,
            "top": null,
            "visibility": null,
            "width": null
          }
        },
        "ab37f10e0561478f8d81b65b57616849": {
          "model_module": "@jupyter-widgets/controls",
          "model_module_version": "2.0.0",
          "model_name": "SliderStyleModel",
          "state": {
            "_model_module": "@jupyter-widgets/controls",
            "_model_module_version": "2.0.0",
            "_model_name": "SliderStyleModel",
            "_view_count": null,
            "_view_module": "@jupyter-widgets/base",
            "_view_module_version": "2.0.0",
            "_view_name": "StyleView",
            "description_width": "",
            "handle_color": null
          }
        },
        "ba733eb3ce2843639a3250b95769c5b2": {
          "model_module": "@jupyter-widgets/controls",
          "model_module_version": "2.0.0",
          "model_name": "FloatSliderModel",
          "state": {
            "_dom_classes": [],
            "_model_module": "@jupyter-widgets/controls",
            "_model_module_version": "2.0.0",
            "_model_name": "FloatSliderModel",
            "_view_count": null,
            "_view_module": "@jupyter-widgets/controls",
            "_view_module_version": "2.0.0",
            "_view_name": "FloatSliderView",
            "behavior": "drag-tap",
            "continuous_update": true,
            "description": "sigma",
            "description_allow_html": false,
            "disabled": false,
            "layout": "IPY_MODEL_85ae3999a11a48d5ac2d24205383ae01",
            "max": 10,
            "min": 0.1,
            "orientation": "horizontal",
            "readout": true,
            "readout_format": ".2f",
            "step": 0.05,
            "style": "IPY_MODEL_fd017d213dd640b8a3532cdc8d19ce33",
            "tabbable": null,
            "tooltip": null,
            "value": 2
          }
        },
        "c170fd246039445b98fd24d3428feb8d": {
          "model_module": "@jupyter-widgets/base",
          "model_module_version": "2.0.0",
          "model_name": "LayoutModel",
          "state": {
            "_model_module": "@jupyter-widgets/base",
            "_model_module_version": "2.0.0",
            "_model_name": "LayoutModel",
            "_view_count": null,
            "_view_module": "@jupyter-widgets/base",
            "_view_module_version": "2.0.0",
            "_view_name": "LayoutView",
            "align_content": null,
            "align_items": null,
            "align_self": null,
            "border_bottom": null,
            "border_left": null,
            "border_right": null,
            "border_top": null,
            "bottom": null,
            "display": null,
            "flex": null,
            "flex_flow": null,
            "grid_area": null,
            "grid_auto_columns": null,
            "grid_auto_flow": null,
            "grid_auto_rows": null,
            "grid_column": null,
            "grid_gap": null,
            "grid_row": null,
            "grid_template_areas": null,
            "grid_template_columns": null,
            "grid_template_rows": null,
            "height": null,
            "justify_content": null,
            "justify_items": null,
            "left": null,
            "margin": null,
            "max_height": null,
            "max_width": null,
            "min_height": null,
            "min_width": null,
            "object_fit": null,
            "object_position": null,
            "order": null,
            "overflow": null,
            "padding": null,
            "right": null,
            "top": null,
            "visibility": null,
            "width": null
          }
        },
        "dda6732db5b041d2900eb06ec05bdfef": {
          "model_module": "@jupyter-widgets/output",
          "model_module_version": "1.0.0",
          "model_name": "OutputModel",
          "state": {
            "_dom_classes": [],
            "_model_module": "@jupyter-widgets/output",
            "_model_module_version": "1.0.0",
            "_model_name": "OutputModel",
            "_view_count": null,
            "_view_module": "@jupyter-widgets/output",
            "_view_module_version": "1.0.0",
            "_view_name": "OutputView",
            "layout": "IPY_MODEL_9cb83ee977f84876b626d3f486f5e702",
            "msg_id": "",
            "outputs": [
              {
                "data": {
                  "image/png": "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\n",
                  "text/plain": "<Figure size 640x480 with 1 Axes>"
                },
                "metadata": {},
                "output_type": "display_data"
              }
            ],
            "tabbable": null,
            "tooltip": null
          }
        },
        "ee2600ccf79246e6b45a32650e52f01f": {
          "model_module": "@jupyter-widgets/controls",
          "model_module_version": "2.0.0",
          "model_name": "FloatSliderModel",
          "state": {
            "_dom_classes": [],
            "_model_module": "@jupyter-widgets/controls",
            "_model_module_version": "2.0.0",
            "_model_name": "FloatSliderModel",
            "_view_count": null,
            "_view_module": "@jupyter-widgets/controls",
            "_view_module_version": "2.0.0",
            "_view_name": "FloatSliderView",
            "behavior": "drag-tap",
            "continuous_update": true,
            "description": "slope",
            "description_allow_html": false,
            "disabled": false,
            "layout": "IPY_MODEL_f89bd497635a408a828dab4406cb792d",
            "max": 30,
            "min": -30,
            "orientation": "horizontal",
            "readout": true,
            "readout_format": ".2f",
            "step": 0.5,
            "style": "IPY_MODEL_ab37f10e0561478f8d81b65b57616849",
            "tabbable": null,
            "tooltip": null,
            "value": 0
          }
        },
        "f89bd497635a408a828dab4406cb792d": {
          "model_module": "@jupyter-widgets/base",
          "model_module_version": "2.0.0",
          "model_name": "LayoutModel",
          "state": {
            "_model_module": "@jupyter-widgets/base",
            "_model_module_version": "2.0.0",
            "_model_name": "LayoutModel",
            "_view_count": null,
            "_view_module": "@jupyter-widgets/base",
            "_view_module_version": "2.0.0",
            "_view_name": "LayoutView",
            "align_content": null,
            "align_items": null,
            "align_self": null,
            "border_bottom": null,
            "border_left": null,
            "border_right": null,
            "border_top": null,
            "bottom": null,
            "display": null,
            "flex": null,
            "flex_flow": null,
            "grid_area": null,
            "grid_auto_columns": null,
            "grid_auto_flow": null,
            "grid_auto_rows": null,
            "grid_column": null,
            "grid_gap": null,
            "grid_row": null,
            "grid_template_areas": null,
            "grid_template_columns": null,
            "grid_template_rows": null,
            "height": null,
            "justify_content": null,
            "justify_items": null,
            "left": null,
            "margin": null,
            "max_height": null,
            "max_width": null,
            "min_height": null,
            "min_width": null,
            "object_fit": null,
            "object_position": null,
            "order": null,
            "overflow": null,
            "padding": null,
            "right": null,
            "top": null,
            "visibility": null,
            "width": null
          }
        },
        "fd017d213dd640b8a3532cdc8d19ce33": {
          "model_module": "@jupyter-widgets/controls",
          "model_module_version": "2.0.0",
          "model_name": "SliderStyleModel",
          "state": {
            "_model_module": "@jupyter-widgets/controls",
            "_model_module_version": "2.0.0",
            "_model_name": "SliderStyleModel",
            "_view_count": null,
            "_view_module": "@jupyter-widgets/base",
            "_view_module_version": "2.0.0",
            "_view_name": "StyleView",
            "description_width": "",
            "handle_color": null
          }
        }
      }
    }
  },
  "nbformat": 4,
  "nbformat_minor": 0
}
